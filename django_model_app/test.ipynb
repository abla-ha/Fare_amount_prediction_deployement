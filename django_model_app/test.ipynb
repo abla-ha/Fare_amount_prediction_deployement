{
 "cells": [
  {
   "cell_type": "code",
   "execution_count": 8,
   "metadata": {},
   "outputs": [
    {
     "name": "stdout",
     "output_type": "stream",
     "text": [
      "Predicted fare: $7.43\n"
     ]
    },
    {
     "name": "stderr",
     "output_type": "stream",
     "text": [
      "/Users/mac/miniconda3/envs/action_recognition/lib/python3.11/site-packages/sklearn/base.py:439: UserWarning: X does not have valid feature names, but RandomForestRegressor was fitted with feature names\n",
      "  warnings.warn(\n"
     ]
    }
   ],
   "source": [
    "import joblib\n",
    "import numpy as np\n",
    "\n",
    "# Load the model\n",
    "model = joblib.load('../model/best_model_1.pkl')\n",
    "\n",
    "# Function to make predictions\n",
    "def predict_fare(year, distance, bearing):\n",
    "    # Prepare the input data\n",
    "    input_data = np.array([[year, distance, bearing]])\n",
    "    \n",
    "    # Make prediction\n",
    "    predicted_fare = model.predict(input_data)\n",
    "    \n",
    "    return predicted_fare[0]\n",
    "\n",
    "# Example input data\n",
    "year = 2024\n",
    "distance = 0.96 # in kilometers\n",
    "bearing = 45.0   # in degrees\n",
    "\n",
    "# Make a prediction\n",
    "fare_prediction = predict_fare(year, distance, bearing)\n",
    "print(f\"Predicted fare: ${fare_prediction:.2f}\")\n"
   ]
  },
  {
   "cell_type": "code",
   "execution_count": 6,
   "metadata": {},
   "outputs": [
    {
     "name": "stdout",
     "output_type": "stream",
     "text": [
      "1.2.2\n"
     ]
    }
   ],
   "source": [
    "import sklearn\n",
    "print(sklearn.__version__)"
   ]
  }
 ],
 "metadata": {
  "kernelspec": {
   "display_name": "action_recognition",
   "language": "python",
   "name": "python3"
  },
  "language_info": {
   "codemirror_mode": {
    "name": "ipython",
    "version": 3
   },
   "file_extension": ".py",
   "mimetype": "text/x-python",
   "name": "python",
   "nbconvert_exporter": "python",
   "pygments_lexer": "ipython3",
   "version": "3.11.0"
  }
 },
 "nbformat": 4,
 "nbformat_minor": 2
}
